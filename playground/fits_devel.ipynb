{
 "cells": [
  {
   "cell_type": "code",
   "execution_count": 1,
   "metadata": {},
   "outputs": [],
   "source": [
    "import numpy as np\n",
    "import time\n",
    "from astropy.coordinates import SkyCoord\n",
    "import astropy.units as u\n",
    "from astropy.time import Time\n",
    "from astropy.io import fits"
   ]
  },
  {
   "cell_type": "code",
   "execution_count": 103,
   "metadata": {},
   "outputs": [],
   "source": [
    "def make_PrimaryHDU(nspec, coords, coord_sys='ga'):\n",
    "    # Set times\n",
    "    obs_start_unix = time.time() #unix time\n",
    "    unix_object = Time(obs_start_unix, format='unix') #unix time Time object\n",
    "    obs_start_jd = unix_object.jd #convert unix time to julian date\n",
    "\n",
    "    # Set the coordinates\n",
    "    if coord_sys == 'ga':\n",
    "        l, b = coords*u.degree\n",
    "        c = SkyCoord(l=l, b=b, frame='galactic')\n",
    "        equatorial = c.fk5\n",
    "        ra, dec = equatorial.ra, equatorial.dec\n",
    "    elif coord_sys == 'eq':\n",
    "        ra, dec = coords*u.degree\n",
    "        c = SkyCoord(ra, dec)\n",
    "        galactic = c.galactic\n",
    "        l, b = galactic.l, galactic.b\n",
    "    \n",
    "    # Make PrimaryHDU\n",
    "    header = fits.Header()\n",
    "\n",
    "    # Save metadata of the system and spectrometer\n",
    "    header['NSPEC'] = (nspec, \"Number of spectra collected\")\n",
    "    \n",
    "    # Save observation attributes\n",
    "    header['L'] = (l.value, \"Galactic longitude [deg]\")\n",
    "    header['B'] = (b.value, \"Galactic latitude [deg]\")\n",
    "    header['RA'] = (ra.value, \"Right Ascension [deg]\")\n",
    "    header['DEC'] = (dec.value, \"Declination [deg]\")\n",
    "    header['JD'] = (obs_start_jd, \"Julian date of start time\")\n",
    "    header['UNIX'] = (obs_start_unix, \"Seconds since epoch\")\n",
    "\n",
    "    primaryhdu = fits.PrimaryHDU(header=header)\n",
    "    return primaryhdu"
   ]
  },
  {
   "cell_type": "code",
   "execution_count": 3,
   "metadata": {},
   "outputs": [],
   "source": [
    "# def make_BinTableHDU(corr_data):\n",
    "#     data_names = ['auto0_real', 'auto1_real', 'cross_real', 'cross_imag']\n",
    "    \n",
    "#     # for i in range(len(data_names)):\n",
    "#     #     data_list.append(fits.Column(name=data_names[i], format='D', array=corr_data[i]))\n",
    "#     data_list = [fits.Column(name=name, format='D', array=data) for name, data in zip(data_names, corr_data)]\n",
    "    \n",
    "#     bintablehdu = fits.BinTableHDU.from_columns(data_list, name='CORR_DATA')\n",
    "#     return bintablehdu"
   ]
  },
  {
   "cell_type": "code",
   "execution_count": 96,
   "metadata": {},
   "outputs": [],
   "source": [
    "# def write_to_fits(hdulist, data_names, corr_data):\n",
    "#     # hdulist.append(make_PrimaryHDU(nspec, coords, coord_sys))\n",
    "#     data_list = [fits.Column(name=name, format='D', array=data) for name, data in zip(data_names, corr_data)]\n",
    "#     bintablehdu = fits.BinTableHDU.from_columns(data_list, name='CORR_DATA')\n",
    "\n",
    "#     hdulist.append(make_BinTableHDU(data_list, corr_data))\n",
    "#     return hdulist"
   ]
  },
  {
   "cell_type": "code",
   "execution_count": 97,
   "metadata": {},
   "outputs": [],
   "source": [
    "# def save_fits(filename, hdulist, overwrite=True):\n",
    "#     hdulist.writeto(filename, overwrite=overwrite)\n",
    "#     hdulist.close()"
   ]
  },
  {
   "cell_type": "code",
   "execution_count": 104,
   "metadata": {},
   "outputs": [],
   "source": [
    "def read_spec(filename, nspec, coords, coord_sys):\n",
    "    primaryhdu = make_PrimaryHDU(nspec, coords, coord_sys)\n",
    "    hdulist = fits.HDUList(hdus=[primaryhdu])\n",
    "\n",
    "    data_names = ['auto0_real', 'auto1_real', 'cross_real', 'cross_imag']\n",
    "\n",
    "    ninteg = 0\n",
    "    while ninteg < nspec:\n",
    "        auto0_real = np.array([2,4,6,1])\n",
    "        auto1_real = np.array([2,3,8,9])\n",
    "        cross_real = np.array([1,1,5,4])\n",
    "        cross_imag = np.array([7,0,3,4])\n",
    "        spectra = [auto0_real, auto1_real, cross_real, cross_imag]\n",
    "\n",
    "        data_list = [fits.Column(name=name, format='D', array=data) for name, data in zip(data_names, spectra)]\n",
    "        bintablehdu = fits.BinTableHDU.from_columns(data_list, name='CORR_DATA')\n",
    "\n",
    "        hdulist.append(bintablehdu)\n",
    "        ninteg += 1\n",
    "    \n",
    "    hdulist.writeto(filename, overwrite=True)\n",
    "    hdulist.close()"
   ]
  },
  {
   "cell_type": "code",
   "execution_count": 113,
   "metadata": {},
   "outputs": [],
   "source": [
    "read_spec('fits_files/fake_file_5.fits', 12, [60,15], 'ga')\n"
   ]
  },
  {
   "cell_type": "code",
   "execution_count": 101,
   "metadata": {},
   "outputs": [
    {
     "data": {
      "text/plain": [
       "'c:\\\\Users\\\\darby\\\\OneDrive\\\\Desktop\\\\Leuschner_Spectrometer\\\\playground'"
      ]
     },
     "execution_count": 101,
     "metadata": {},
     "output_type": "execute_result"
    }
   ],
   "source": [
    "import os\n",
    "cwd = os.getcwd()\n",
    "cwd"
   ]
  },
  {
   "cell_type": "code",
   "execution_count": 114,
   "metadata": {},
   "outputs": [
    {
     "name": "stdout",
     "output_type": "stream",
     "text": [
      "Filename: c:\\Users\\darby\\OneDrive\\Desktop\\Leuschner_Spectrometer\\playground\\fits_files\\fake_file_5.fits\n",
      "No.    Name      Ver    Type      Cards   Dimensions   Format\n",
      "  0  PRIMARY       1 PrimaryHDU      11   ()      \n",
      "  1  CORR_DATA     1 BinTableHDU     17   4R x 4C   [D, D, D, D]   \n",
      "  2  CORR_DATA     1 BinTableHDU     17   4R x 4C   [D, D, D, D]   \n",
      "  3  CORR_DATA     1 BinTableHDU     17   4R x 4C   [D, D, D, D]   \n",
      "  4  CORR_DATA     1 BinTableHDU     17   4R x 4C   [D, D, D, D]   \n",
      "  5  CORR_DATA     1 BinTableHDU     17   4R x 4C   [D, D, D, D]   \n",
      "  6  CORR_DATA     1 BinTableHDU     17   4R x 4C   [D, D, D, D]   \n",
      "  7  CORR_DATA     1 BinTableHDU     17   4R x 4C   [D, D, D, D]   \n",
      "  8  CORR_DATA     1 BinTableHDU     17   4R x 4C   [D, D, D, D]   \n",
      "  9  CORR_DATA     1 BinTableHDU     17   4R x 4C   [D, D, D, D]   \n",
      " 10  CORR_DATA     1 BinTableHDU     17   4R x 4C   [D, D, D, D]   \n",
      " 11  CORR_DATA     1 BinTableHDU     17   4R x 4C   [D, D, D, D]   \n",
      " 12  CORR_DATA     1 BinTableHDU     17   4R x 4C   [D, D, D, D]   \n",
      "\n",
      "file length = 13\n"
     ]
    }
   ],
   "source": [
    "file = fits.open(cwd+'\\\\fits_files\\\\fake_file_5.fits')\n",
    "file.info()\n",
    "print('\\nfile length =', len(file))"
   ]
  },
  {
   "cell_type": "code",
   "execution_count": null,
   "metadata": {},
   "outputs": [],
   "source": []
  }
 ],
 "metadata": {
  "kernelspec": {
   "display_name": "Python 3.9.7 ('base')",
   "language": "python",
   "name": "python3"
  },
  "language_info": {
   "codemirror_mode": {
    "name": "ipython",
    "version": 3
   },
   "file_extension": ".py",
   "mimetype": "text/x-python",
   "name": "python",
   "nbconvert_exporter": "python",
   "pygments_lexer": "ipython3",
   "version": "3.9.7"
  },
  "orig_nbformat": 4,
  "vscode": {
   "interpreter": {
    "hash": "f9abee4c860cc32047641d8144108e69f2a24808590ccf1f439e0429f42778d7"
   }
  }
 },
 "nbformat": 4,
 "nbformat_minor": 2
}
