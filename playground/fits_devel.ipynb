{
 "cells": [
  {
   "cell_type": "code",
   "execution_count": 359,
   "metadata": {},
   "outputs": [],
   "source": [
    "import numpy as np\n",
    "import time\n",
    "from astropy.coordinates import SkyCoord\n",
    "import astropy.units as u\n",
    "from astropy.time import Time\n",
    "from astropy.io import fits"
   ]
  },
  {
   "cell_type": "code",
   "execution_count": 360,
   "metadata": {},
   "outputs": [],
   "source": [
    "def make_PrimaryHDU(nspec, coords, coord_sys='ga'):\n",
    "    # Set times\n",
    "    obs_start_unix = time.time() #unix time\n",
    "    unix_object = Time(obs_start_unix, format='unix') #unix time Time object\n",
    "    obs_start_jd = unix_object.jd #convert unix time to julian date\n",
    "\n",
    "    # Set the coordinates\n",
    "    if coord_sys == 'ga':\n",
    "        l, b = coords*u.degree\n",
    "        c = SkyCoord(l=l, b=b, frame='galactic')\n",
    "        equatorial = c.fk5\n",
    "        ra, dec = equatorial.ra, equatorial.dec\n",
    "    elif coord_sys == 'eq':\n",
    "        ra, dec = coords*u.degree\n",
    "        c = SkyCoord(ra, dec)\n",
    "        galactic = c.galactic\n",
    "        l, b = galactic.l, galactic.b\n",
    "    \n",
    "    # Make PrimaryHDU\n",
    "    header = fits.Header()\n",
    "\n",
    "    # Save metadata of the system and spectrometer\n",
    "    header['NSPEC'] = (nspec, \"Number of spectra collected\")\n",
    "    \n",
    "    # Save observation attributes\n",
    "    header['L'] = (l.value, \"Galactic longitude [deg]\")\n",
    "    header['B'] = (b.value, \"Galactic latitude [deg]\")\n",
    "    header['RA'] = (ra.value, \"Right Ascension [deg]\")\n",
    "    header['DEC'] = (dec.value, \"Declination [deg]\")\n",
    "    header['JD'] = (obs_start_jd, \"Julian date of start time\")\n",
    "    header['UNIX'] = (obs_start_unix, \"Seconds since epoch\")\n",
    "\n",
    "    primaryhdu = fits.PrimaryHDU(header=header)\n",
    "    return primaryhdu"
   ]
  },
  {
   "cell_type": "code",
   "execution_count": 361,
   "metadata": {},
   "outputs": [],
   "source": [
    "def make_BinTableHDU(data_list, corr_data):\n",
    "    data_names = ['auto0_real', 'auto1_real', 'cross_real', 'cross_imag']\n",
    "    \n",
    "    for i in range(len(data_names)):\n",
    "        data_list.append(fits.Column(name=data_names[i], format='D', array=corr_data[i]))\n",
    "    \n",
    "    bintablehdu = fits.BinTableHDU.from_columns(data_list, name='CORR_DATA')\n",
    "    return bintablehdu"
   ]
  },
  {
   "cell_type": "code",
   "execution_count": 362,
   "metadata": {},
   "outputs": [],
   "source": [
    "def write_to_fits(hdulist, data_list, corr_data, nspec, coords, coord_sys):\n",
    "    hdulist.append(make_PrimaryHDU(nspec, coords, coord_sys))\n",
    "    hdulist.append(make_BinTableHDU(data_list, corr_data))\n",
    "    return hdulist"
   ]
  },
  {
   "cell_type": "code",
   "execution_count": 452,
   "metadata": {},
   "outputs": [],
   "source": [
    "def save_fits(filename, hdulist, overwrite=True):\n",
    "    hdulist.writeto(filename, overwrite=overwrite)\n",
    "    indices = []\n",
    "    for i in range(len(hdulist)):\n",
    "        if hdulist[i].name == '':\n",
    "            indices.append(i)\n",
    "    print(indices, type(indices), type(indices[0]), len(indices))\n",
    "    for i in range(len(indices)):\n",
    "        # print(i, indices[i], type(indices[i]))\n",
    "        hdulist.pop(index=indices[i])\n",
    "\n",
    "    hdulist.close()"
   ]
  },
  {
   "cell_type": "code",
   "execution_count": 453,
   "metadata": {},
   "outputs": [],
   "source": [
    "def read_spec(filename, nspec, coords, coord_sys):\n",
    "    hdul = fits.HDUList()\n",
    "    # hdul = [make_PrimaryHDU(nspec, coords, coord_sys)]\n",
    "\n",
    "    ninteg = 0\n",
    "    while ninteg < nspec:\n",
    "        cols = []\n",
    "        auto0_real = np.array([2,4,6,1])\n",
    "        auto1_real = np.array([2,3,8,9])\n",
    "        cross_real = np.array([1,1,5,4])\n",
    "        cross_imag = np.array([7,0,3,4])\n",
    "        spectra = [auto0_real, auto1_real, cross_real, cross_imag]\n",
    "\n",
    "        write_to_fits(hdul, cols, spectra, nspec, coords, coord_sys)\n",
    "        ninteg += 1\n",
    "    \n",
    "    save_fits(filename, hdul)"
   ]
  },
  {
   "cell_type": "code",
   "execution_count": 455,
   "metadata": {},
   "outputs": [
    {
     "name": "stdout",
     "output_type": "stream",
     "text": [
      "[2, 4, 6, 8, 10, 12, 14, 16, 18, 20, 22] <class 'list'> <class 'int'> 11\n"
     ]
    },
    {
     "ename": "IndexError",
     "evalue": "pop index out of range",
     "output_type": "error",
     "traceback": [
      "\u001b[1;31m---------------------------------------------------------------------------\u001b[0m",
      "\u001b[1;31mIndexError\u001b[0m                                Traceback (most recent call last)",
      "\u001b[1;32m~\\AppData\\Local\\Temp/ipykernel_7100/2460750359.py\u001b[0m in \u001b[0;36m<module>\u001b[1;34m\u001b[0m\n\u001b[1;32m----> 1\u001b[1;33m \u001b[0mread_spec\u001b[0m\u001b[1;33m(\u001b[0m\u001b[1;34m'fake_file25.fits'\u001b[0m\u001b[1;33m,\u001b[0m \u001b[1;36m12\u001b[0m\u001b[1;33m,\u001b[0m \u001b[1;33m[\u001b[0m\u001b[1;36m60\u001b[0m\u001b[1;33m,\u001b[0m\u001b[1;36m15\u001b[0m\u001b[1;33m]\u001b[0m\u001b[1;33m,\u001b[0m \u001b[1;34m'ga'\u001b[0m\u001b[1;33m)\u001b[0m\u001b[1;33m\u001b[0m\u001b[1;33m\u001b[0m\u001b[0m\n\u001b[0m",
      "\u001b[1;32m~\\AppData\\Local\\Temp/ipykernel_7100/1801661937.py\u001b[0m in \u001b[0;36mread_spec\u001b[1;34m(filename, nspec, coords, coord_sys)\u001b[0m\n\u001b[0;32m     15\u001b[0m         \u001b[0mninteg\u001b[0m \u001b[1;33m+=\u001b[0m \u001b[1;36m1\u001b[0m\u001b[1;33m\u001b[0m\u001b[1;33m\u001b[0m\u001b[0m\n\u001b[0;32m     16\u001b[0m \u001b[1;33m\u001b[0m\u001b[0m\n\u001b[1;32m---> 17\u001b[1;33m     \u001b[0msave_fits\u001b[0m\u001b[1;33m(\u001b[0m\u001b[0mfilename\u001b[0m\u001b[1;33m,\u001b[0m \u001b[0mhdul\u001b[0m\u001b[1;33m)\u001b[0m\u001b[1;33m\u001b[0m\u001b[1;33m\u001b[0m\u001b[0m\n\u001b[0m",
      "\u001b[1;32m~\\AppData\\Local\\Temp/ipykernel_7100/2562140947.py\u001b[0m in \u001b[0;36msave_fits\u001b[1;34m(filename, hdulist, overwrite)\u001b[0m\n\u001b[0;32m      8\u001b[0m     \u001b[1;32mfor\u001b[0m \u001b[0mi\u001b[0m \u001b[1;32min\u001b[0m \u001b[0mrange\u001b[0m\u001b[1;33m(\u001b[0m\u001b[0mlen\u001b[0m\u001b[1;33m(\u001b[0m\u001b[0mindices\u001b[0m\u001b[1;33m)\u001b[0m\u001b[1;33m)\u001b[0m\u001b[1;33m:\u001b[0m\u001b[1;33m\u001b[0m\u001b[1;33m\u001b[0m\u001b[0m\n\u001b[0;32m      9\u001b[0m         \u001b[1;31m# print(i, indices[i], type(indices[i]))\u001b[0m\u001b[1;33m\u001b[0m\u001b[1;33m\u001b[0m\u001b[0m\n\u001b[1;32m---> 10\u001b[1;33m         \u001b[0mhdulist\u001b[0m\u001b[1;33m.\u001b[0m\u001b[0mpop\u001b[0m\u001b[1;33m(\u001b[0m\u001b[0mindex\u001b[0m\u001b[1;33m=\u001b[0m\u001b[0mindices\u001b[0m\u001b[1;33m[\u001b[0m\u001b[0mi\u001b[0m\u001b[1;33m]\u001b[0m\u001b[1;33m)\u001b[0m\u001b[1;33m\u001b[0m\u001b[1;33m\u001b[0m\u001b[0m\n\u001b[0m\u001b[0;32m     11\u001b[0m     \u001b[1;31m# # indices = np.array(indices)\u001b[0m\u001b[1;33m\u001b[0m\u001b[1;33m\u001b[0m\u001b[0m\n\u001b[0;32m     12\u001b[0m     \u001b[1;31m# for i in range(len(indices)):\u001b[0m\u001b[1;33m\u001b[0m\u001b[1;33m\u001b[0m\u001b[0m\n",
      "\u001b[1;32mc:\\Users\\darby\\anaconda3\\lib\\site-packages\\astropy\\io\\fits\\hdu\\hdulist.py\u001b[0m in \u001b[0;36mpop\u001b[1;34m(self, index)\u001b[0m\n\u001b[0;32m    573\u001b[0m         \u001b[0mself\u001b[0m\u001b[1;33m.\u001b[0m\u001b[0mreadall\u001b[0m\u001b[1;33m(\u001b[0m\u001b[1;33m)\u001b[0m\u001b[1;33m\u001b[0m\u001b[1;33m\u001b[0m\u001b[0m\n\u001b[0;32m    574\u001b[0m         \u001b[0mlist_index\u001b[0m \u001b[1;33m=\u001b[0m \u001b[0mself\u001b[0m\u001b[1;33m.\u001b[0m\u001b[0mindex_of\u001b[0m\u001b[1;33m(\u001b[0m\u001b[0mindex\u001b[0m\u001b[1;33m)\u001b[0m\u001b[1;33m\u001b[0m\u001b[1;33m\u001b[0m\u001b[0m\n\u001b[1;32m--> 575\u001b[1;33m         \u001b[1;32mreturn\u001b[0m \u001b[0msuper\u001b[0m\u001b[1;33m(\u001b[0m\u001b[1;33m)\u001b[0m\u001b[1;33m.\u001b[0m\u001b[0mpop\u001b[0m\u001b[1;33m(\u001b[0m\u001b[0mlist_index\u001b[0m\u001b[1;33m)\u001b[0m\u001b[1;33m\u001b[0m\u001b[1;33m\u001b[0m\u001b[0m\n\u001b[0m\u001b[0;32m    576\u001b[0m \u001b[1;33m\u001b[0m\u001b[0m\n\u001b[0;32m    577\u001b[0m     \u001b[1;32mdef\u001b[0m \u001b[0minsert\u001b[0m\u001b[1;33m(\u001b[0m\u001b[0mself\u001b[0m\u001b[1;33m,\u001b[0m \u001b[0mindex\u001b[0m\u001b[1;33m,\u001b[0m \u001b[0mhdu\u001b[0m\u001b[1;33m)\u001b[0m\u001b[1;33m:\u001b[0m\u001b[1;33m\u001b[0m\u001b[1;33m\u001b[0m\u001b[0m\n",
      "\u001b[1;31mIndexError\u001b[0m: pop index out of range"
     ]
    }
   ],
   "source": [
    "read_spec('fake_file25.fits', 12, [60,15], 'ga')\n"
   ]
  },
  {
   "cell_type": "code",
   "execution_count": 348,
   "metadata": {},
   "outputs": [
    {
     "data": {
      "text/plain": [
       "'c:\\\\Users\\\\darby\\\\OneDrive\\\\Desktop\\\\Leuschner_Spectrometer'"
      ]
     },
     "execution_count": 348,
     "metadata": {},
     "output_type": "execute_result"
    }
   ],
   "source": [
    "import os\n",
    "cwd = os.getcwd()\n",
    "cwd"
   ]
  },
  {
   "cell_type": "code",
   "execution_count": 435,
   "metadata": {},
   "outputs": [
    {
     "data": {
      "text/plain": [
       "24"
      ]
     },
     "execution_count": 435,
     "metadata": {},
     "output_type": "execute_result"
    }
   ],
   "source": [
    "file = fits.open(cwd+'\\\\fake_file21.fits')\n",
    "len(file)"
   ]
  },
  {
   "cell_type": "code",
   "execution_count": 436,
   "metadata": {},
   "outputs": [
    {
     "name": "stdout",
     "output_type": "stream",
     "text": [
      "Filename: c:\\Users\\darby\\OneDrive\\Desktop\\Leuschner_Spectrometer\\fake_file21.fits\n",
      "No.    Name      Ver    Type      Cards   Dimensions   Format\n",
      "  0  PRIMARY       1 PrimaryHDU      11   ()      \n",
      "  1  CORR_DATA     1 BinTableHDU     17   4R x 4C   [D, D, D, D]   \n",
      "  2                1 ImageHDU        12   ()      \n",
      "  3  CORR_DATA     1 BinTableHDU     17   4R x 4C   [D, D, D, D]   \n",
      "  4                1 ImageHDU        12   ()      \n",
      "  5  CORR_DATA     1 BinTableHDU     17   4R x 4C   [D, D, D, D]   \n",
      "  6                1 ImageHDU        12   ()      \n",
      "  7  CORR_DATA     1 BinTableHDU     17   4R x 4C   [D, D, D, D]   \n",
      "  8                1 ImageHDU        12   ()      \n",
      "  9  CORR_DATA     1 BinTableHDU     17   4R x 4C   [D, D, D, D]   \n",
      " 10                1 ImageHDU        12   ()      \n",
      " 11  CORR_DATA     1 BinTableHDU     17   4R x 4C   [D, D, D, D]   \n",
      " 12                1 ImageHDU        12   ()      \n",
      " 13  CORR_DATA     1 BinTableHDU     17   4R x 4C   [D, D, D, D]   \n",
      " 14                1 ImageHDU        12   ()      \n",
      " 15  CORR_DATA     1 BinTableHDU     17   4R x 4C   [D, D, D, D]   \n",
      " 16                1 ImageHDU        12   ()      \n",
      " 17  CORR_DATA     1 BinTableHDU     17   4R x 4C   [D, D, D, D]   \n",
      " 18                1 ImageHDU        12   ()      \n",
      " 19  CORR_DATA     1 BinTableHDU     17   4R x 4C   [D, D, D, D]   \n",
      " 20                1 ImageHDU        12   ()      \n",
      " 21  CORR_DATA     1 BinTableHDU     17   4R x 4C   [D, D, D, D]   \n",
      " 22                1 ImageHDU        12   ()      \n",
      " 23  CORR_DATA     1 BinTableHDU     17   4R x 4C   [D, D, D, D]   \n"
     ]
    }
   ],
   "source": [
    "file.info()"
   ]
  },
  {
   "cell_type": "code",
   "execution_count": null,
   "metadata": {},
   "outputs": [],
   "source": []
  },
  {
   "cell_type": "code",
   "execution_count": 428,
   "metadata": {},
   "outputs": [
    {
     "name": "stdout",
     "output_type": "stream",
     "text": [
      "2\n",
      "4\n",
      "6\n",
      "8\n",
      "10\n",
      "12\n",
      "14\n",
      "16\n",
      "18\n",
      "20\n",
      "22\n",
      "<class 'numpy.ndarray'> <class 'int'>\n",
      "<class 'numpy.ndarray'> <class 'numpy.int32'>\n"
     ]
    }
   ],
   "source": [
    "indices = []\n",
    "for i in range(len(file)):\n",
    "    if file[i].name == '':\n",
    "        print(i)\n",
    "        indices.append(i)\n",
    "indices = np.array(indices)\n",
    "\n",
    "print(type(indices), type(int(indices[0])))\n",
    "y = 2*indices\n",
    "print(type(y), type(y[0]))"
   ]
  },
  {
   "cell_type": "code",
   "execution_count": 418,
   "metadata": {},
   "outputs": [],
   "source": [
    "ints = []\n",
    "for i in range(len(indices)):\n",
    "    int_index = int(indices[i])\n",
    "    ints.append(int_index)"
   ]
  },
  {
   "cell_type": "code",
   "execution_count": 419,
   "metadata": {},
   "outputs": [
    {
     "data": {
      "text/plain": [
       "[2, 4, 6, 8, 10, 12, 14, 16, 18, 20, 22]"
      ]
     },
     "execution_count": 419,
     "metadata": {},
     "output_type": "execute_result"
    }
   ],
   "source": [
    "ints"
   ]
  },
  {
   "cell_type": "code",
   "execution_count": 420,
   "metadata": {},
   "outputs": [
    {
     "data": {
      "text/plain": [
       "int"
      ]
     },
     "execution_count": 420,
     "metadata": {},
     "output_type": "execute_result"
    }
   ],
   "source": [
    "type(ints[0])"
   ]
  },
  {
   "cell_type": "code",
   "execution_count": 421,
   "metadata": {},
   "outputs": [
    {
     "data": {
      "text/plain": [
       "2"
      ]
     },
     "execution_count": 421,
     "metadata": {},
     "output_type": "execute_result"
    }
   ],
   "source": [
    "ints[0]"
   ]
  },
  {
   "cell_type": "code",
   "execution_count": 422,
   "metadata": {},
   "outputs": [
    {
     "data": {
      "text/plain": [
       "[2,\n",
       " 4,\n",
       " 6,\n",
       " 8,\n",
       " 10,\n",
       " 12,\n",
       " 14,\n",
       " 16,\n",
       " 18,\n",
       " 20,\n",
       " 22,\n",
       " 2,\n",
       " 4,\n",
       " 6,\n",
       " 8,\n",
       " 10,\n",
       " 12,\n",
       " 14,\n",
       " 16,\n",
       " 18,\n",
       " 20,\n",
       " 22]"
      ]
     },
     "execution_count": 422,
     "metadata": {},
     "output_type": "execute_result"
    }
   ],
   "source": []
  },
  {
   "cell_type": "code",
   "execution_count": null,
   "metadata": {},
   "outputs": [],
   "source": []
  }
 ],
 "metadata": {
  "kernelspec": {
   "display_name": "Python 3.9.7 ('base')",
   "language": "python",
   "name": "python3"
  },
  "language_info": {
   "codemirror_mode": {
    "name": "ipython",
    "version": 3
   },
   "file_extension": ".py",
   "mimetype": "text/x-python",
   "name": "python",
   "nbconvert_exporter": "python",
   "pygments_lexer": "ipython3",
   "version": "3.9.7"
  },
  "orig_nbformat": 4,
  "vscode": {
   "interpreter": {
    "hash": "f9abee4c860cc32047641d8144108e69f2a24808590ccf1f439e0429f42778d7"
   }
  }
 },
 "nbformat": 4,
 "nbformat_minor": 2
}
